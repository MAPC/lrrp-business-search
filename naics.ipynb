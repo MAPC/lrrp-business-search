{
 "metadata": {
  "language_info": {
   "codemirror_mode": {
    "name": "ipython",
    "version": 3
   },
   "file_extension": ".py",
   "mimetype": "text/x-python",
   "name": "python",
   "nbconvert_exporter": "python",
   "pygments_lexer": "ipython3",
   "version": "3.9.4"
  },
  "orig_nbformat": 2,
  "kernelspec": {
   "name": "python394jvsc74a57bd0ac2eaa0ea0ebeafcc7822e65e46aa9d4f966f30b695406963e145ea4a91cd4fc",
   "display_name": "Python 3.9.4 64-bit"
  },
  "metadata": {
   "interpreter": {
    "hash": "ac2eaa0ea0ebeafcc7822e65e46aa9d4f966f30b695406963e145ea4a91cd4fc"
   }
  }
 },
 "nbformat": 4,
 "nbformat_minor": 2,
 "cells": [
  {
   "cell_type": "code",
   "execution_count": null,
   "metadata": {},
   "outputs": [],
   "source": [
    "import pandas as pd \n",
    "import numpy as np"
   ]
  },
  {
   "cell_type": "code",
   "execution_count": null,
   "metadata": {},
   "outputs": [],
   "source": [
    "name = 'Revere' #name of the town\n",
    "town = pd.read_csv(name+'-google.csv') #file name, in this case they all followed format \"town-google.csv\""
   ]
  },
  {
   "cell_type": "code",
   "execution_count": null,
   "metadata": {},
   "outputs": [],
   "source": [
    "#strip all white space and split the types into a list for easier searching\n",
    "town['type_list'] = town['types'].str.replace(' ','').str.split(',')"
   ]
  },
  {
   "cell_type": "code",
   "execution_count": null,
   "metadata": {},
   "outputs": [],
   "source": [
    "#code_dict maps tags to 4 digit NAICS codes\n",
    "#sometimes >4 digits if the more specigic naics code is trivially easy to find\n",
    "#these are basically all assgined by hand\n",
    "code_dict = {}\n",
    "code_dict['bar'] = 7224\n",
    "code_dict['liquor_store'] = 4248\n",
    "code_dict['grocery_or_supermarket'] =  4244\n",
    "code_dict['secondary_school'] = 6111\n",
    "code_dict['school'] = 6111\n",
    "code_dict['lodging'] = 7211\n",
    "code_dict['car_dealer'] = 4411\n",
    "code_dict['bakery'] = 4452\n",
    "code_dict['car_repair'] = 8111\n",
    "code_dict['jewelry_store'] = 4239\n",
    "code_dict['bank'] = 5221\n",
    "code_dict['department_store'] = 4521\n",
    "code_dict['gym'] = 7139\n",
    "code_dict['dentist'] = 6212\n",
    "code_dict['hardware_store'] = 4237\n",
    "code_dict['furniture_store'] = 4232\n",
    "code_dict['pharmacy'] = 4461\n",
    "code_dict['drugstore'] = 4461\n",
    "code_dict['clothing_store'] = 4481\n",
    "code_dict['pet_store'] = 4539\n",
    "code_dict['electronics_store'] = 4431\n",
    "code_dict['local_government_office'] = 9211\n",
    "code_dict['city_hall'] = 9211\n",
    "code_dict['place_of_worship'] = 8131\n",
    "code_dict['electrician'] = 2382\n",
    "code_dict['restaurant'] = 7225\n",
    "code_dict['convenience_store'] = 44512\n",
    "code_dict['shoe_store'] = 4482\n",
    "code_dict['hair_care'] = 81211\n",
    "code_dict['doctor'] = 6211\n",
    "code_dict['insurance_agency'] = 5242\n",
    "code_dict['lawyer'] = 5411\n",
    "code_dict['veterinary_care'] = 54194\n",
    "code_dict['book_store'] = 451211\n",
    "code_dict['university'] = 6113\n",
    "code_dict['funeral_home'] = 8122\n",
    "code_dict['post_office'] = 4911\n",
    "code_dict['library'] = 51912\n",
    "code_dict['roofing_contractor'] = 2381\n",
    "code_dict['storage'] = 4931\n",
    "code_dict['atm'] = 5221 #used for credit union\n",
    "code_dict['movie_theater'] = 5121\n",
    "code_dict['florist'] = 4531\n",
    "code_dict['beauty_salon'] = 8121\n",
    "code_dict['spa'] = 8121\n",
    "code_dict['real_estate_agency'] = 5312\n",
    "code_dict['home_goods_store'] = 4422\n",
    "code_dict['movie_rental'] =  5322\n",
    "code_dict['hospital'] =  6221\n",
    "code_dict['moving_company'] =  4842\n",
    "code_dict['police'] =  9221"
   ]
  },
  {
   "cell_type": "code",
   "execution_count": null,
   "metadata": {},
   "outputs": [],
   "source": [
    "#iterate through, assigning NAICS codes based on the dictionary above\n",
    "#the remaining set will keep track of tags for any business that still does not yet have a code asssigned\n",
    "#use the remaining set to add more keys to the dictionary\n",
    "remaining = set()\n",
    "for row in range(len(town)):\n",
    "    types = town['type_list'][row]\n",
    "    for elem in types:\n",
    "        if elem in code_dict:\n",
    "            town.at[row, 'naics'] = code_dict[elem]\n",
    "            break\n",
    "    else:\n",
    "        #if the loop finishes, then we didn't find any match\n",
    "        remaining |= set(town['type_list'][row])    \n",
    "print(remaining) #show what tags are still remaining"
   ]
  },
  {
   "cell_type": "code",
   "execution_count": null,
   "metadata": {},
   "outputs": [],
   "source": [
    "#show all of the rows that were not assigned a NAICS code\n",
    "#these typically will be tags like \"point_of_interest\" or \"establishment\"\n",
    "town.loc[town['naics'] != town['naics']]"
   ]
  },
  {
   "cell_type": "code",
   "execution_count": null,
   "metadata": {},
   "outputs": [],
   "source": [
    "#delete the extra column\n",
    "del town['type_list']\n",
    "\n",
    "#save the file, name formatting can be changed to liking\n",
    "town.to_csv(name+'-naics.csv', index = False)"
   ]
  }
 ]
}